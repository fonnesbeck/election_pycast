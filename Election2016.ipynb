{
 "cells": [
  {
   "cell_type": "markdown",
   "metadata": {},
   "source": [
    "# 2016 US Election Forecast\n",
    "\n",
    "This is a re-implementation of [Drew Linzer's election forecasting model](http://votamatic.org/wp-content/uploads/2013/07/Linzer-JASA13.pdf), originally implemented by [Pierre-Antoine Kremp](https://github.com/pkremp/polls). The model is fit using PyMC3."
   ]
  },
  {
   "cell_type": "code",
   "execution_count": 102,
   "metadata": {
    "collapsed": true
   },
   "outputs": [],
   "source": [
    "%matplotlib inline\n",
    "import numpy as np\n",
    "import pandas as pd\n",
    "import seaborn as sns\n",
    "import pymc3 as pm\n",
    "from pollster import Pollster\n",
    "import us\n",
    "from datetime import date"
   ]
  },
  {
   "cell_type": "markdown",
   "metadata": {},
   "source": [
    "## Import data\n",
    "\n",
    "Download and process data from the Huffington Post using their public API."
   ]
  },
  {
   "cell_type": "code",
   "execution_count": 2,
   "metadata": {
    "collapsed": true
   },
   "outputs": [],
   "source": [
    "pollster = Pollster()"
   ]
  },
  {
   "cell_type": "code",
   "execution_count": 3,
   "metadata": {
    "collapsed": false
   },
   "outputs": [],
   "source": [
    "states = [state.name.lower() for state in us.STATES]\n",
    "bad_states = 'district of columbia', 'florida', 'california'\n",
    "stubs = [\"2016-{0}-president-trump-vs-clinton\".format(state) for state in states if state not in bad_states]\n",
    "stubs += [\"2016-general-election-trump-vs-clinton\",\n",
    "           \"2016-california-presidential-general-election-trump-vs-clinton\",\n",
    "           \"2016-florida-presidential-general-election-trump-vs-clinton\"]"
   ]
  },
  {
   "cell_type": "code",
   "execution_count": 10,
   "metadata": {
    "collapsed": false
   },
   "outputs": [],
   "source": [
    "url = lambda stub: \"http://elections.huffingtonpost.com/pollster/{0}.csv\".format('-'.join(stub.split(' ')))"
   ]
  },
  {
   "cell_type": "code",
   "execution_count": 29,
   "metadata": {
    "collapsed": false
   },
   "outputs": [],
   "source": [
    "raw_polls = [pd.read_csv(url(stub)).assign(state=stub.split('-')[1]) for stub in stubs]"
   ]
  },
  {
   "cell_type": "code",
   "execution_count": 44,
   "metadata": {
    "collapsed": false
   },
   "outputs": [
    {
     "data": {
      "text/plain": [
       "(2892, 20)"
      ]
     },
     "execution_count": 44,
     "metadata": {},
     "output_type": "execute_result"
    }
   ],
   "source": [
    "all_polls = pd.concat(raw_polls)\n",
    "all_polls.columns = all_polls.columns.str.lower()\n",
    "all_polls.shape"
   ]
  },
  {
   "cell_type": "code",
   "execution_count": 45,
   "metadata": {
    "collapsed": false
   },
   "outputs": [
    {
     "data": {
      "text/plain": [
       "affiliation                  0\n",
       "clinton                      0\n",
       "end date                     0\n",
       "entry date/time (et)         0\n",
       "johnson                   2535\n",
       "mcmullin                  2883\n",
       "mode                         0\n",
       "number of observations     528\n",
       "other                      923\n",
       "partisan                     0\n",
       "pollster                     0\n",
       "pollster url                 0\n",
       "population                   0\n",
       "question iteration           0\n",
       "question text             1793\n",
       "source url                   0\n",
       "start date                   0\n",
       "trump                        1\n",
       "undecided                  146\n",
       "state                        0\n",
       "dtype: int64"
      ]
     },
     "execution_count": 45,
     "metadata": {},
     "output_type": "execute_result"
    }
   ],
   "source": [
    "all_polls.isnull().sum()"
   ]
  },
  {
   "cell_type": "code",
   "execution_count": 46,
   "metadata": {
    "collapsed": false
   },
   "outputs": [
    {
     "data": {
      "text/html": [
       "<div>\n",
       "<table border=\"1\" class=\"dataframe\">\n",
       "  <thead>\n",
       "    <tr style=\"text-align: right;\">\n",
       "      <th></th>\n",
       "      <th>affiliation</th>\n",
       "      <th>clinton</th>\n",
       "      <th>end date</th>\n",
       "      <th>entry date/time (et)</th>\n",
       "      <th>johnson</th>\n",
       "      <th>mcmullin</th>\n",
       "      <th>mode</th>\n",
       "      <th>number of observations</th>\n",
       "      <th>other</th>\n",
       "      <th>partisan</th>\n",
       "      <th>pollster</th>\n",
       "      <th>pollster url</th>\n",
       "      <th>population</th>\n",
       "      <th>question iteration</th>\n",
       "      <th>question text</th>\n",
       "      <th>source url</th>\n",
       "      <th>start date</th>\n",
       "      <th>trump</th>\n",
       "      <th>undecided</th>\n",
       "      <th>state</th>\n",
       "    </tr>\n",
       "  </thead>\n",
       "  <tbody>\n",
       "    <tr>\n",
       "      <th>0</th>\n",
       "      <td>None</td>\n",
       "      <td>35.0</td>\n",
       "      <td>2016-10-31</td>\n",
       "      <td>2016-11-01T13:54:44Z</td>\n",
       "      <td>NaN</td>\n",
       "      <td>NaN</td>\n",
       "      <td>Internet</td>\n",
       "      <td>485.0</td>\n",
       "      <td>NaN</td>\n",
       "      <td>Nonpartisan</td>\n",
       "      <td>SurveyMonkey</td>\n",
       "      <td>http://elections.huffingtonpost.com/pollster/p...</td>\n",
       "      <td>Likely Voters</td>\n",
       "      <td>1</td>\n",
       "      <td>NaN</td>\n",
       "      <td>https://www.surveymonkey.com/elections/map?pol...</td>\n",
       "      <td>2016-10-25</td>\n",
       "      <td>55.0</td>\n",
       "      <td>3.0</td>\n",
       "      <td>alabama</td>\n",
       "    </tr>\n",
       "    <tr>\n",
       "      <th>1</th>\n",
       "      <td>None</td>\n",
       "      <td>37.0</td>\n",
       "      <td>2016-10-29</td>\n",
       "      <td>2016-11-01T12:54:47Z</td>\n",
       "      <td>NaN</td>\n",
       "      <td>NaN</td>\n",
       "      <td>Internet</td>\n",
       "      <td>349.0</td>\n",
       "      <td>NaN</td>\n",
       "      <td>Nonpartisan</td>\n",
       "      <td>UPI/CVOTER</td>\n",
       "      <td>http://elections.huffingtonpost.com/pollster/p...</td>\n",
       "      <td>Likely Voters</td>\n",
       "      <td>1</td>\n",
       "      <td>NaN</td>\n",
       "      <td>https://www.documentcloud.org/documents/321097...</td>\n",
       "      <td>2016-10-23</td>\n",
       "      <td>58.0</td>\n",
       "      <td>5.0</td>\n",
       "      <td>alabama</td>\n",
       "    </tr>\n",
       "    <tr>\n",
       "      <th>2</th>\n",
       "      <td>None</td>\n",
       "      <td>39.0</td>\n",
       "      <td>2016-10-27</td>\n",
       "      <td>2016-10-31T21:52:12Z</td>\n",
       "      <td>NaN</td>\n",
       "      <td>NaN</td>\n",
       "      <td>Internet</td>\n",
       "      <td>505.0</td>\n",
       "      <td>NaN</td>\n",
       "      <td>Nonpartisan</td>\n",
       "      <td>Ipsos/Reuters</td>\n",
       "      <td>http://elections.huffingtonpost.com/pollster/p...</td>\n",
       "      <td>Likely Voters</td>\n",
       "      <td>1</td>\n",
       "      <td>NaN</td>\n",
       "      <td>http://big.assets.huffingtonpost.com/2016.Reut...</td>\n",
       "      <td>2016-10-07</td>\n",
       "      <td>51.0</td>\n",
       "      <td>10.0</td>\n",
       "      <td>alabama</td>\n",
       "    </tr>\n",
       "    <tr>\n",
       "      <th>3</th>\n",
       "      <td>None</td>\n",
       "      <td>36.0</td>\n",
       "      <td>2016-10-24</td>\n",
       "      <td>2016-10-26T13:40:15Z</td>\n",
       "      <td>NaN</td>\n",
       "      <td>NaN</td>\n",
       "      <td>Internet</td>\n",
       "      <td>415.0</td>\n",
       "      <td>NaN</td>\n",
       "      <td>Nonpartisan</td>\n",
       "      <td>SurveyMonkey</td>\n",
       "      <td>http://elections.huffingtonpost.com/pollster/p...</td>\n",
       "      <td>Likely Voters</td>\n",
       "      <td>1</td>\n",
       "      <td>NaN</td>\n",
       "      <td>https://www.surveymonkey.com/elections/map?pol...</td>\n",
       "      <td>2016-10-18</td>\n",
       "      <td>52.0</td>\n",
       "      <td>2.0</td>\n",
       "      <td>alabama</td>\n",
       "    </tr>\n",
       "    <tr>\n",
       "      <th>4</th>\n",
       "      <td>None</td>\n",
       "      <td>38.0</td>\n",
       "      <td>2016-10-16</td>\n",
       "      <td>2016-10-20T15:26:38Z</td>\n",
       "      <td>NaN</td>\n",
       "      <td>NaN</td>\n",
       "      <td>Internet</td>\n",
       "      <td>327.0</td>\n",
       "      <td>NaN</td>\n",
       "      <td>Nonpartisan</td>\n",
       "      <td>UPI/CVOTER</td>\n",
       "      <td>http://elections.huffingtonpost.com/pollster/p...</td>\n",
       "      <td>Likely Voters</td>\n",
       "      <td>1</td>\n",
       "      <td>NaN</td>\n",
       "      <td>https://assets.documentcloud.org/documents/314...</td>\n",
       "      <td>2016-10-09</td>\n",
       "      <td>57.0</td>\n",
       "      <td>NaN</td>\n",
       "      <td>alabama</td>\n",
       "    </tr>\n",
       "  </tbody>\n",
       "</table>\n",
       "</div>"
      ],
      "text/plain": [
       "  affiliation  clinton    end date  entry date/time (et)  johnson  mcmullin  \\\n",
       "0        None     35.0  2016-10-31  2016-11-01T13:54:44Z      NaN       NaN   \n",
       "1        None     37.0  2016-10-29  2016-11-01T12:54:47Z      NaN       NaN   \n",
       "2        None     39.0  2016-10-27  2016-10-31T21:52:12Z      NaN       NaN   \n",
       "3        None     36.0  2016-10-24  2016-10-26T13:40:15Z      NaN       NaN   \n",
       "4        None     38.0  2016-10-16  2016-10-20T15:26:38Z      NaN       NaN   \n",
       "\n",
       "       mode  number of observations  other     partisan       pollster  \\\n",
       "0  Internet                   485.0    NaN  Nonpartisan   SurveyMonkey   \n",
       "1  Internet                   349.0    NaN  Nonpartisan     UPI/CVOTER   \n",
       "2  Internet                   505.0    NaN  Nonpartisan  Ipsos/Reuters   \n",
       "3  Internet                   415.0    NaN  Nonpartisan   SurveyMonkey   \n",
       "4  Internet                   327.0    NaN  Nonpartisan     UPI/CVOTER   \n",
       "\n",
       "                                        pollster url     population  \\\n",
       "0  http://elections.huffingtonpost.com/pollster/p...  Likely Voters   \n",
       "1  http://elections.huffingtonpost.com/pollster/p...  Likely Voters   \n",
       "2  http://elections.huffingtonpost.com/pollster/p...  Likely Voters   \n",
       "3  http://elections.huffingtonpost.com/pollster/p...  Likely Voters   \n",
       "4  http://elections.huffingtonpost.com/pollster/p...  Likely Voters   \n",
       "\n",
       "   question iteration question text  \\\n",
       "0                   1           NaN   \n",
       "1                   1           NaN   \n",
       "2                   1           NaN   \n",
       "3                   1           NaN   \n",
       "4                   1           NaN   \n",
       "\n",
       "                                          source url  start date  trump  \\\n",
       "0  https://www.surveymonkey.com/elections/map?pol...  2016-10-25   55.0   \n",
       "1  https://www.documentcloud.org/documents/321097...  2016-10-23   58.0   \n",
       "2  http://big.assets.huffingtonpost.com/2016.Reut...  2016-10-07   51.0   \n",
       "3  https://www.surveymonkey.com/elections/map?pol...  2016-10-18   52.0   \n",
       "4  https://assets.documentcloud.org/documents/314...  2016-10-09   57.0   \n",
       "\n",
       "   undecided    state  \n",
       "0        3.0  alabama  \n",
       "1        5.0  alabama  \n",
       "2       10.0  alabama  \n",
       "3        2.0  alabama  \n",
       "4        NaN  alabama  "
      ]
     },
     "execution_count": 46,
     "metadata": {},
     "output_type": "execute_result"
    }
   ],
   "source": [
    "all_polls.head()"
   ]
  },
  {
   "cell_type": "markdown",
   "metadata": {},
   "source": [
    "Date-time conversion"
   ]
  },
  {
   "cell_type": "code",
   "execution_count": 97,
   "metadata": {
    "collapsed": false
   },
   "outputs": [
    {
     "data": {
      "text/html": [
       "<div>\n",
       "<table border=\"1\" class=\"dataframe\">\n",
       "  <thead>\n",
       "    <tr style=\"text-align: right;\">\n",
       "      <th></th>\n",
       "      <th>begin</th>\n",
       "      <th>end</th>\n",
       "    </tr>\n",
       "  </thead>\n",
       "  <tbody>\n",
       "    <tr>\n",
       "      <th>0</th>\n",
       "      <td>2016-10-25</td>\n",
       "      <td>2016-10-31</td>\n",
       "    </tr>\n",
       "    <tr>\n",
       "      <th>1</th>\n",
       "      <td>2016-10-23</td>\n",
       "      <td>2016-10-29</td>\n",
       "    </tr>\n",
       "    <tr>\n",
       "      <th>2</th>\n",
       "      <td>2016-10-07</td>\n",
       "      <td>2016-10-27</td>\n",
       "    </tr>\n",
       "    <tr>\n",
       "      <th>3</th>\n",
       "      <td>2016-10-18</td>\n",
       "      <td>2016-10-24</td>\n",
       "    </tr>\n",
       "    <tr>\n",
       "      <th>4</th>\n",
       "      <td>2016-10-09</td>\n",
       "      <td>2016-10-16</td>\n",
       "    </tr>\n",
       "  </tbody>\n",
       "</table>\n",
       "</div>"
      ],
      "text/plain": [
       "       begin        end\n",
       "0 2016-10-25 2016-10-31\n",
       "1 2016-10-23 2016-10-29\n",
       "2 2016-10-07 2016-10-27\n",
       "3 2016-10-18 2016-10-24\n",
       "4 2016-10-09 2016-10-16"
      ]
     },
     "execution_count": 97,
     "metadata": {},
     "output_type": "execute_result"
    }
   ],
   "source": [
    "all_polls[['begin', 'end']].head()"
   ]
  },
  {
   "cell_type": "code",
   "execution_count": 119,
   "metadata": {
    "collapsed": false
   },
   "outputs": [],
   "source": [
    "all_polls['end'] = pd.to_datetime(all_polls['end date'])\n",
    "all_polls['begin'] = pd.to_datetime(all_polls['start date'])\n",
    "all_polls['poll_time'] = (all_polls.end - all_polls.begin).dt.days\n",
    "all_polls['poll_date'] = (all_polls.end - (all_polls.end - all_polls.begin) / 2)\n",
    "all_polls['week'] = all_polls.poll_date.dt.week\n",
    "all_polls['day_of_week'] = all_polls.poll_date.dt.dayofweek"
   ]
  },
  {
   "cell_type": "markdown",
   "metadata": {},
   "source": [
    "Deal with inconsistency in pollster names"
   ]
  },
  {
   "cell_type": "code",
   "execution_count": 81,
   "metadata": {
    "collapsed": false
   },
   "outputs": [],
   "source": [
    "all_polls.pollster = all_polls.pollster.replace({\"Fox News\":\"FOX\",\n",
    "                            \"WashPost\":\"Washington Post\",\n",
    "                            \"ABC News\":\"ABC\"})"
   ]
  },
  {
   "cell_type": "code",
   "execution_count": 82,
   "metadata": {
    "collapsed": true
   },
   "outputs": [],
   "source": [
    "all_polls.undecided = all_polls.undecided.fillna(0)"
   ]
  },
  {
   "cell_type": "markdown",
   "metadata": {},
   "source": [
    "Combine other candidate categories"
   ]
  },
  {
   "cell_type": "code",
   "execution_count": 68,
   "metadata": {
    "collapsed": false
   },
   "outputs": [],
   "source": [
    "all_polls['other'] = all_polls[['johnson', 'mcmullin', 'other']].fillna(0).sum(1)"
   ]
  },
  {
   "cell_type": "code",
   "execution_count": 83,
   "metadata": {
    "collapsed": true
   },
   "outputs": [],
   "source": [
    "all_polls['both'] = all_polls.clinton + all_polls.trump"
   ]
  },
  {
   "cell_type": "code",
   "execution_count": 110,
   "metadata": {
    "collapsed": false
   },
   "outputs": [],
   "source": [
    "start_date = date(2016, 4, 1)\n",
    "rows_to_keep = ((all_polls['number of observations']>1)\n",
    "               & (all_polls.poll_date >= start_date)\n",
    "               & (all_polls.population.isin(['Likely Voters', 'Registered Voters', 'Adults'])))"
   ]
  },
  {
   "cell_type": "code",
   "execution_count": 120,
   "metadata": {
    "collapsed": false
   },
   "outputs": [],
   "source": [
    "cols_to_keep = ['begin', 'end', 'poll_time', 'poll_date', 'week', 'day_of_week', \n",
    "                'mode', 'population', 'number of observations',\n",
    "               'clinton', 'trump', 'both', 'other']\n",
    "poll_data = (all_polls.loc[rows_to_keep, cols_to_keep]\n",
    "                .rename(columns={'mode':'method', 'population':'vtype', 'number of observations':'n_obs'}))"
   ]
  },
  {
   "cell_type": "code",
   "execution_count": 122,
   "metadata": {
    "collapsed": true
   },
   "outputs": [],
   "source": [
    "poll_data['poll_type'] = poll_data.vtype.replace({\"Likely Voters\":0, \n",
    "                                                     \"Registered Voters\":1,\n",
    "                                                     \"Adults\":2})"
   ]
  },
  {
   "cell_type": "code",
   "execution_count": 123,
   "metadata": {
    "collapsed": false
   },
   "outputs": [
    {
     "data": {
      "text/html": [
       "<div>\n",
       "<table border=\"1\" class=\"dataframe\">\n",
       "  <thead>\n",
       "    <tr style=\"text-align: right;\">\n",
       "      <th></th>\n",
       "      <th>begin</th>\n",
       "      <th>end</th>\n",
       "      <th>poll_time</th>\n",
       "      <th>poll_date</th>\n",
       "      <th>week</th>\n",
       "      <th>day_of_week</th>\n",
       "      <th>method</th>\n",
       "      <th>vtype</th>\n",
       "      <th>n_obs</th>\n",
       "      <th>clinton</th>\n",
       "      <th>trump</th>\n",
       "      <th>both</th>\n",
       "      <th>other</th>\n",
       "      <th>poll_type</th>\n",
       "    </tr>\n",
       "  </thead>\n",
       "  <tbody>\n",
       "    <tr>\n",
       "      <th>0</th>\n",
       "      <td>2016-10-25</td>\n",
       "      <td>2016-10-31</td>\n",
       "      <td>6</td>\n",
       "      <td>2016-10-28 00:00:00</td>\n",
       "      <td>43</td>\n",
       "      <td>4</td>\n",
       "      <td>Internet</td>\n",
       "      <td>Likely Voters</td>\n",
       "      <td>485.0</td>\n",
       "      <td>35.0</td>\n",
       "      <td>55.0</td>\n",
       "      <td>90.0</td>\n",
       "      <td>0.0</td>\n",
       "      <td>0</td>\n",
       "    </tr>\n",
       "    <tr>\n",
       "      <th>1</th>\n",
       "      <td>2016-10-23</td>\n",
       "      <td>2016-10-29</td>\n",
       "      <td>6</td>\n",
       "      <td>2016-10-26 00:00:00</td>\n",
       "      <td>43</td>\n",
       "      <td>2</td>\n",
       "      <td>Internet</td>\n",
       "      <td>Likely Voters</td>\n",
       "      <td>349.0</td>\n",
       "      <td>37.0</td>\n",
       "      <td>58.0</td>\n",
       "      <td>95.0</td>\n",
       "      <td>0.0</td>\n",
       "      <td>0</td>\n",
       "    </tr>\n",
       "    <tr>\n",
       "      <th>2</th>\n",
       "      <td>2016-10-07</td>\n",
       "      <td>2016-10-27</td>\n",
       "      <td>20</td>\n",
       "      <td>2016-10-17 00:00:00</td>\n",
       "      <td>42</td>\n",
       "      <td>0</td>\n",
       "      <td>Internet</td>\n",
       "      <td>Likely Voters</td>\n",
       "      <td>505.0</td>\n",
       "      <td>39.0</td>\n",
       "      <td>51.0</td>\n",
       "      <td>90.0</td>\n",
       "      <td>0.0</td>\n",
       "      <td>0</td>\n",
       "    </tr>\n",
       "    <tr>\n",
       "      <th>3</th>\n",
       "      <td>2016-10-18</td>\n",
       "      <td>2016-10-24</td>\n",
       "      <td>6</td>\n",
       "      <td>2016-10-21 00:00:00</td>\n",
       "      <td>42</td>\n",
       "      <td>4</td>\n",
       "      <td>Internet</td>\n",
       "      <td>Likely Voters</td>\n",
       "      <td>415.0</td>\n",
       "      <td>36.0</td>\n",
       "      <td>52.0</td>\n",
       "      <td>88.0</td>\n",
       "      <td>0.0</td>\n",
       "      <td>0</td>\n",
       "    </tr>\n",
       "    <tr>\n",
       "      <th>4</th>\n",
       "      <td>2016-10-09</td>\n",
       "      <td>2016-10-16</td>\n",
       "      <td>7</td>\n",
       "      <td>2016-10-12 12:00:00</td>\n",
       "      <td>41</td>\n",
       "      <td>2</td>\n",
       "      <td>Internet</td>\n",
       "      <td>Likely Voters</td>\n",
       "      <td>327.0</td>\n",
       "      <td>38.0</td>\n",
       "      <td>57.0</td>\n",
       "      <td>95.0</td>\n",
       "      <td>0.0</td>\n",
       "      <td>0</td>\n",
       "    </tr>\n",
       "  </tbody>\n",
       "</table>\n",
       "</div>"
      ],
      "text/plain": [
       "       begin        end  poll_time           poll_date  week  day_of_week  \\\n",
       "0 2016-10-25 2016-10-31          6 2016-10-28 00:00:00    43            4   \n",
       "1 2016-10-23 2016-10-29          6 2016-10-26 00:00:00    43            2   \n",
       "2 2016-10-07 2016-10-27         20 2016-10-17 00:00:00    42            0   \n",
       "3 2016-10-18 2016-10-24          6 2016-10-21 00:00:00    42            4   \n",
       "4 2016-10-09 2016-10-16          7 2016-10-12 12:00:00    41            2   \n",
       "\n",
       "     method          vtype  n_obs  clinton  trump  both  other  poll_type  \n",
       "0  Internet  Likely Voters  485.0     35.0   55.0  90.0    0.0          0  \n",
       "1  Internet  Likely Voters  349.0     37.0   58.0  95.0    0.0          0  \n",
       "2  Internet  Likely Voters  505.0     39.0   51.0  90.0    0.0          0  \n",
       "3  Internet  Likely Voters  415.0     36.0   52.0  88.0    0.0          0  \n",
       "4  Internet  Likely Voters  327.0     38.0   57.0  95.0    0.0          0  "
      ]
     },
     "execution_count": 123,
     "metadata": {},
     "output_type": "execute_result"
    }
   ],
   "source": [
    "poll_data.head()"
   ]
  },
  {
   "cell_type": "markdown",
   "metadata": {},
   "source": [
    "## Specify model"
   ]
  },
  {
   "cell_type": "code",
   "execution_count": null,
   "metadata": {
    "collapsed": true
   },
   "outputs": [],
   "source": []
  },
  {
   "cell_type": "markdown",
   "metadata": {},
   "source": [
    "## Platform information"
   ]
  },
  {
   "cell_type": "code",
   "execution_count": 1,
   "metadata": {
    "collapsed": true
   },
   "outputs": [],
   "source": [
    "%load_ext watermark"
   ]
  },
  {
   "cell_type": "code",
   "execution_count": 7,
   "metadata": {
    "collapsed": false
   },
   "outputs": [
    {
     "name": "stdout",
     "output_type": "stream",
     "text": [
      "CPython 3.5.2\n",
      "IPython 5.1.0\n",
      "\n",
      "pandas 0.19.0\n",
      "numpy 1.11.2\n",
      "pymc3 3.0.rc2\n",
      "\n",
      "compiler   : GCC 4.2.1 Compatible Apple LLVM 6.0 (clang-600.0.54)\n",
      "system     : Darwin\n",
      "release    : 16.1.0\n",
      "machine    : x86_64\n",
      "processor  : i386\n",
      "CPU cores  : 4\n",
      "interpreter: 64bit\n",
      "Git hash   : 6c363171114ef79674b6b85be416ad70c121ed5d\n"
     ]
    }
   ],
   "source": [
    "%watermark -v -m -g -p pandas,numpy,pymc3"
   ]
  }
 ],
 "metadata": {
  "anaconda-cloud": {},
  "kernelspec": {
   "display_name": "Python 3",
   "language": "python",
   "name": "python3"
  },
  "language_info": {
   "codemirror_mode": {
    "name": "ipython",
    "version": 3
   },
   "file_extension": ".py",
   "mimetype": "text/x-python",
   "name": "python",
   "nbconvert_exporter": "python",
   "pygments_lexer": "ipython3",
   "version": "3.5.2"
  },
  "latex_envs": {
   "bibliofile": "biblio.bib",
   "cite_by": "apalike",
   "current_citInitial": 1,
   "eqLabelWithNumbers": true,
   "eqNumInitial": 0
  }
 },
 "nbformat": 4,
 "nbformat_minor": 1
}
