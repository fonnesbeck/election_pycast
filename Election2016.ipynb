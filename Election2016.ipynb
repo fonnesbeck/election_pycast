{
 "cells": [
  {
   "cell_type": "markdown",
   "metadata": {},
   "source": [
    "# 2016 US Election Forecast\n",
    "\n",
    "This is a re-implementation of [Drew Linzer's election forecasting model](http://votamatic.org/wp-content/uploads/2013/07/Linzer-JASA13.pdf), originally implemented in Stan by [Pierre-Antoine Kremp](https://github.com/pkremp/polls). The model is fit using PyMC3."
   ]
  },
  {
   "cell_type": "code",
   "execution_count": 175,
   "metadata": {
    "collapsed": true
   },
   "outputs": [],
   "source": [
    "%matplotlib inline\n",
    "import numpy as np\n",
    "import pandas as pd\n",
    "import seaborn as sns\n",
    "import us\n",
    "from datetime import date"
   ]
  },
  {
   "cell_type": "markdown",
   "metadata": {},
   "source": [
    "## Import data\n",
    "\n",
    "Download and process data from the Huffington Post. "
   ]
  },
  {
   "cell_type": "code",
   "execution_count": 3,
   "metadata": {
    "collapsed": false
   },
   "outputs": [],
   "source": [
    "states = [state.name.lower() for state in us.STATES]\n",
    "bad_states = 'district of columbia', 'florida', 'california'\n",
    "stubs = [\"2016-{0}-president-trump-vs-clinton\".format(state) for state in states if state not in bad_states]\n",
    "stubs += [\"2016-general-election-trump-vs-clinton\",\n",
    "           \"2016-california-presidential-general-election-trump-vs-clinton\",\n",
    "           \"2016-florida-presidential-general-election-trump-vs-clinton\"]"
   ]
  },
  {
   "cell_type": "code",
   "execution_count": 10,
   "metadata": {
    "collapsed": false
   },
   "outputs": [],
   "source": [
    "url = lambda stub: \"http://elections.huffingtonpost.com/pollster/{0}.csv\".format('-'.join(stub.split(' ')))"
   ]
  },
  {
   "cell_type": "code",
   "execution_count": 29,
   "metadata": {
    "collapsed": false
   },
   "outputs": [],
   "source": [
    "raw_polls = [pd.read_csv(url(stub)).assign(state=stub.split('-')[1]) for stub in stubs]"
   ]
  },
  {
   "cell_type": "code",
   "execution_count": 44,
   "metadata": {
    "collapsed": false
   },
   "outputs": [
    {
     "data": {
      "text/plain": [
       "(2892, 20)"
      ]
     },
     "execution_count": 44,
     "metadata": {},
     "output_type": "execute_result"
    }
   ],
   "source": [
    "all_polls = pd.concat(raw_polls)\n",
    "all_polls.columns = all_polls.columns.str.lower()\n",
    "all_polls.shape"
   ]
  },
  {
   "cell_type": "code",
   "execution_count": 45,
   "metadata": {
    "collapsed": false
   },
   "outputs": [
    {
     "data": {
      "text/plain": [
       "affiliation                  0\n",
       "clinton                      0\n",
       "end date                     0\n",
       "entry date/time (et)         0\n",
       "johnson                   2535\n",
       "mcmullin                  2883\n",
       "mode                         0\n",
       "number of observations     528\n",
       "other                      923\n",
       "partisan                     0\n",
       "pollster                     0\n",
       "pollster url                 0\n",
       "population                   0\n",
       "question iteration           0\n",
       "question text             1793\n",
       "source url                   0\n",
       "start date                   0\n",
       "trump                        1\n",
       "undecided                  146\n",
       "state                        0\n",
       "dtype: int64"
      ]
     },
     "execution_count": 45,
     "metadata": {},
     "output_type": "execute_result"
    }
   ],
   "source": [
    "all_polls.isnull().sum()"
   ]
  },
  {
   "cell_type": "markdown",
   "metadata": {},
   "source": [
    "Date-time conversion"
   ]
  },
  {
   "cell_type": "code",
   "execution_count": 119,
   "metadata": {
    "collapsed": false
   },
   "outputs": [],
   "source": [
    "all_polls['end'] = pd.to_datetime(all_polls['end date'])\n",
    "all_polls['begin'] = pd.to_datetime(all_polls['start date'])\n",
    "all_polls['poll_time'] = (all_polls.end - all_polls.begin).dt.days\n",
    "all_polls['poll_date'] = (all_polls.end - (all_polls.end - all_polls.begin) / 2)\n",
    "all_polls['week'] = all_polls.poll_date.dt.week\n",
    "all_polls['day_of_week'] = all_polls.poll_date.dt.dayofweek"
   ]
  },
  {
   "cell_type": "markdown",
   "metadata": {},
   "source": [
    "Deal with inconsistency in pollster names"
   ]
  },
  {
   "cell_type": "code",
   "execution_count": 81,
   "metadata": {
    "collapsed": false
   },
   "outputs": [],
   "source": [
    "all_polls.pollster = all_polls.pollster.replace({\"Fox News\":\"FOX\",\n",
    "                            \"WashPost\":\"Washington Post\",\n",
    "                            \"ABC News\":\"ABC\"})"
   ]
  },
  {
   "cell_type": "markdown",
   "metadata": {},
   "source": [
    "Combine other candidate categories"
   ]
  },
  {
   "cell_type": "code",
   "execution_count": 68,
   "metadata": {
    "collapsed": false
   },
   "outputs": [],
   "source": [
    "all_polls['other'] = all_polls[['johnson', 'mcmullin', 'other']].fillna(0).sum(1)"
   ]
  },
  {
   "cell_type": "code",
   "execution_count": 83,
   "metadata": {
    "collapsed": true
   },
   "outputs": [],
   "source": [
    "all_polls['both'] = all_polls.clinton + all_polls.trump"
   ]
  },
  {
   "cell_type": "markdown",
   "metadata": {},
   "source": [
    "Fill NA values where needed."
   ]
  },
  {
   "cell_type": "code",
   "execution_count": 82,
   "metadata": {
    "collapsed": true
   },
   "outputs": [],
   "source": [
    "all_polls.undecided = all_polls.undecided.fillna(0)"
   ]
  },
  {
   "cell_type": "markdown",
   "metadata": {},
   "source": [
    "Important dates"
   ]
  },
  {
   "cell_type": "code",
   "execution_count": 174,
   "metadata": {
    "collapsed": true
   },
   "outputs": [],
   "source": [
    "start_date = date(2016, 4, 1)\n",
    "election_date = date(2016, 11, 8)"
   ]
  },
  {
   "cell_type": "markdown",
   "metadata": {},
   "source": [
    "Rows and columns we need for analysis"
   ]
  },
  {
   "cell_type": "code",
   "execution_count": 110,
   "metadata": {
    "collapsed": false
   },
   "outputs": [],
   "source": [
    "rows_to_keep = ((all_polls['number of observations']>1)\n",
    "               & (all_polls.poll_date >= start_date)\n",
    "               & (all_polls.population.isin(['Likely Voters', 'Registered Voters', 'Adults'])))\n",
    "\n",
    "cols_to_keep = ['state', 'begin', 'end', 'poll_time', 'poll_date', 'week', 'day_of_week', \n",
    "               'pollster', 'mode', 'population', 'number of observations',\n",
    "               'clinton', 'trump', 'both', 'other']"
   ]
  },
  {
   "cell_type": "code",
   "execution_count": 146,
   "metadata": {
    "collapsed": false
   },
   "outputs": [],
   "source": [
    "poll_data = (all_polls.loc[rows_to_keep, cols_to_keep]\n",
    "                .rename(columns={'mode':'method', 'population':'vtype', 'number of observations':'n_obs'}))"
   ]
  },
  {
   "cell_type": "markdown",
   "metadata": {},
   "source": [
    "Derived columns"
   ]
  },
  {
   "cell_type": "code",
   "execution_count": 147,
   "metadata": {
    "collapsed": false
   },
   "outputs": [],
   "source": [
    "poll_data['poll_type'] = poll_data.vtype.replace({\"Likely Voters\":0, \n",
    "                                                     \"Registered Voters\":1,\n",
    "                                                     \"Adults\":2})\n",
    "poll_data['p_clinton'] = poll_data.clinton / poll_data.both\n",
    "poll_data['n_clinton'] = poll_data.n_obs * poll_data.clinton / 100\n",
    "poll_data['n_respondents'] = poll_data.n_obs * poll_data.both / 100"
   ]
  },
  {
   "cell_type": "code",
   "execution_count": 148,
   "metadata": {
    "collapsed": false
   },
   "outputs": [
    {
     "data": {
      "text/html": [
       "<div>\n",
       "<table border=\"1\" class=\"dataframe\">\n",
       "  <thead>\n",
       "    <tr style=\"text-align: right;\">\n",
       "      <th></th>\n",
       "      <th>state</th>\n",
       "      <th>begin</th>\n",
       "      <th>end</th>\n",
       "      <th>poll_time</th>\n",
       "      <th>poll_date</th>\n",
       "      <th>week</th>\n",
       "      <th>day_of_week</th>\n",
       "      <th>pollster</th>\n",
       "      <th>method</th>\n",
       "      <th>vtype</th>\n",
       "      <th>n_obs</th>\n",
       "      <th>clinton</th>\n",
       "      <th>trump</th>\n",
       "      <th>both</th>\n",
       "      <th>other</th>\n",
       "      <th>poll_type</th>\n",
       "      <th>p_clinton</th>\n",
       "      <th>n_clinton</th>\n",
       "      <th>n_respondents</th>\n",
       "    </tr>\n",
       "  </thead>\n",
       "  <tbody>\n",
       "    <tr>\n",
       "      <th>0</th>\n",
       "      <td>alabama</td>\n",
       "      <td>2016-10-25</td>\n",
       "      <td>2016-10-31</td>\n",
       "      <td>6</td>\n",
       "      <td>2016-10-28 00:00:00</td>\n",
       "      <td>43</td>\n",
       "      <td>4</td>\n",
       "      <td>SurveyMonkey</td>\n",
       "      <td>Internet</td>\n",
       "      <td>Likely Voters</td>\n",
       "      <td>485.0</td>\n",
       "      <td>35.0</td>\n",
       "      <td>55.0</td>\n",
       "      <td>90.0</td>\n",
       "      <td>0.0</td>\n",
       "      <td>0</td>\n",
       "      <td>0.388889</td>\n",
       "      <td>169.75</td>\n",
       "      <td>436.50</td>\n",
       "    </tr>\n",
       "    <tr>\n",
       "      <th>1</th>\n",
       "      <td>alabama</td>\n",
       "      <td>2016-10-23</td>\n",
       "      <td>2016-10-29</td>\n",
       "      <td>6</td>\n",
       "      <td>2016-10-26 00:00:00</td>\n",
       "      <td>43</td>\n",
       "      <td>2</td>\n",
       "      <td>UPI/CVOTER</td>\n",
       "      <td>Internet</td>\n",
       "      <td>Likely Voters</td>\n",
       "      <td>349.0</td>\n",
       "      <td>37.0</td>\n",
       "      <td>58.0</td>\n",
       "      <td>95.0</td>\n",
       "      <td>0.0</td>\n",
       "      <td>0</td>\n",
       "      <td>0.389474</td>\n",
       "      <td>129.13</td>\n",
       "      <td>331.55</td>\n",
       "    </tr>\n",
       "    <tr>\n",
       "      <th>2</th>\n",
       "      <td>alabama</td>\n",
       "      <td>2016-10-07</td>\n",
       "      <td>2016-10-27</td>\n",
       "      <td>20</td>\n",
       "      <td>2016-10-17 00:00:00</td>\n",
       "      <td>42</td>\n",
       "      <td>0</td>\n",
       "      <td>Ipsos/Reuters</td>\n",
       "      <td>Internet</td>\n",
       "      <td>Likely Voters</td>\n",
       "      <td>505.0</td>\n",
       "      <td>39.0</td>\n",
       "      <td>51.0</td>\n",
       "      <td>90.0</td>\n",
       "      <td>0.0</td>\n",
       "      <td>0</td>\n",
       "      <td>0.433333</td>\n",
       "      <td>196.95</td>\n",
       "      <td>454.50</td>\n",
       "    </tr>\n",
       "    <tr>\n",
       "      <th>3</th>\n",
       "      <td>alabama</td>\n",
       "      <td>2016-10-18</td>\n",
       "      <td>2016-10-24</td>\n",
       "      <td>6</td>\n",
       "      <td>2016-10-21 00:00:00</td>\n",
       "      <td>42</td>\n",
       "      <td>4</td>\n",
       "      <td>SurveyMonkey</td>\n",
       "      <td>Internet</td>\n",
       "      <td>Likely Voters</td>\n",
       "      <td>415.0</td>\n",
       "      <td>36.0</td>\n",
       "      <td>52.0</td>\n",
       "      <td>88.0</td>\n",
       "      <td>0.0</td>\n",
       "      <td>0</td>\n",
       "      <td>0.409091</td>\n",
       "      <td>149.40</td>\n",
       "      <td>365.20</td>\n",
       "    </tr>\n",
       "    <tr>\n",
       "      <th>4</th>\n",
       "      <td>alabama</td>\n",
       "      <td>2016-10-09</td>\n",
       "      <td>2016-10-16</td>\n",
       "      <td>7</td>\n",
       "      <td>2016-10-12 12:00:00</td>\n",
       "      <td>41</td>\n",
       "      <td>2</td>\n",
       "      <td>UPI/CVOTER</td>\n",
       "      <td>Internet</td>\n",
       "      <td>Likely Voters</td>\n",
       "      <td>327.0</td>\n",
       "      <td>38.0</td>\n",
       "      <td>57.0</td>\n",
       "      <td>95.0</td>\n",
       "      <td>0.0</td>\n",
       "      <td>0</td>\n",
       "      <td>0.400000</td>\n",
       "      <td>124.26</td>\n",
       "      <td>310.65</td>\n",
       "    </tr>\n",
       "  </tbody>\n",
       "</table>\n",
       "</div>"
      ],
      "text/plain": [
       "     state      begin        end  poll_time           poll_date  week  \\\n",
       "0  alabama 2016-10-25 2016-10-31          6 2016-10-28 00:00:00    43   \n",
       "1  alabama 2016-10-23 2016-10-29          6 2016-10-26 00:00:00    43   \n",
       "2  alabama 2016-10-07 2016-10-27         20 2016-10-17 00:00:00    42   \n",
       "3  alabama 2016-10-18 2016-10-24          6 2016-10-21 00:00:00    42   \n",
       "4  alabama 2016-10-09 2016-10-16          7 2016-10-12 12:00:00    41   \n",
       "\n",
       "   day_of_week       pollster    method          vtype  n_obs  clinton  trump  \\\n",
       "0            4   SurveyMonkey  Internet  Likely Voters  485.0     35.0   55.0   \n",
       "1            2     UPI/CVOTER  Internet  Likely Voters  349.0     37.0   58.0   \n",
       "2            0  Ipsos/Reuters  Internet  Likely Voters  505.0     39.0   51.0   \n",
       "3            4   SurveyMonkey  Internet  Likely Voters  415.0     36.0   52.0   \n",
       "4            2     UPI/CVOTER  Internet  Likely Voters  327.0     38.0   57.0   \n",
       "\n",
       "   both  other  poll_type  p_clinton  n_clinton  n_respondents  \n",
       "0  90.0    0.0          0   0.388889     169.75         436.50  \n",
       "1  95.0    0.0          0   0.389474     129.13         331.55  \n",
       "2  90.0    0.0          0   0.433333     196.95         454.50  \n",
       "3  88.0    0.0          0   0.409091     149.40         365.20  \n",
       "4  95.0    0.0          0   0.400000     124.26         310.65  "
      ]
     },
     "execution_count": 148,
     "metadata": {},
     "output_type": "execute_result"
    }
   ],
   "source": [
    "poll_data.head()"
   ]
  },
  {
   "cell_type": "code",
   "execution_count": 150,
   "metadata": {
    "collapsed": false
   },
   "outputs": [
    {
     "data": {
      "text/plain": [
       "(1670, 19)"
      ]
     },
     "execution_count": 150,
     "metadata": {},
     "output_type": "execute_result"
    }
   ],
   "source": [
    "poll_data.shape"
   ]
  },
  {
   "cell_type": "markdown",
   "metadata": {},
   "source": [
    "Remove overlapping polls"
   ]
  },
  {
   "cell_type": "code",
   "execution_count": 152,
   "metadata": {
    "collapsed": false
   },
   "outputs": [],
   "source": [
    "poll_data = poll_data.drop_duplicates(['state', 'poll_date', 'pollster'])"
   ]
  },
  {
   "cell_type": "code",
   "execution_count": 153,
   "metadata": {
    "collapsed": false
   },
   "outputs": [
    {
     "data": {
      "text/plain": [
       "(1242, 19)"
      ]
     },
     "execution_count": 153,
     "metadata": {},
     "output_type": "execute_result"
    }
   ],
   "source": [
    "poll_data.shape"
   ]
  },
  {
   "cell_type": "code",
   "execution_count": 154,
   "metadata": {
    "collapsed": true
   },
   "outputs": [],
   "source": [
    "poll_data.to_csv('data/clean/poll_data_2016.csv')"
   ]
  },
  {
   "cell_type": "markdown",
   "metadata": {},
   "source": [
    "### 2012 data\n",
    "\n",
    "For use in deriving priors, weights and getting electoral votes"
   ]
  },
  {
   "cell_type": "code",
   "execution_count": 164,
   "metadata": {
    "collapsed": false
   },
   "outputs": [],
   "source": [
    "data_2012 = pd.read_csv('data/raw/2012.csv', index_col=-3)"
   ]
  },
  {
   "cell_type": "code",
   "execution_count": 165,
   "metadata": {
    "collapsed": false
   },
   "outputs": [
    {
     "data": {
      "text/plain": [
       "0.51963863890611295"
      ]
     },
     "execution_count": 165,
     "metadata": {},
     "output_type": "execute_result"
    }
   ],
   "source": [
    "national_score = data_2012.obama_count.sum() / (data_2012.romney_count + data_2012.obama_count).sum()\n",
    "national_score"
   ]
  },
  {
   "cell_type": "code",
   "execution_count": 166,
   "metadata": {
    "collapsed": true
   },
   "outputs": [],
   "source": [
    "data_2012['score'] = data_2012.obama_count / (data_2012.romney_count + data_2012.obama_count)\n",
    "data_2012['diff_score'] = data_2012.score - national_score\n",
    "data_2012['share_national'] = (data_2012.total_count * (1 + data_2012.adult_pop_growth_2011_15)\n",
    "                               / (data_2012.total_count*(1+data_2012.adult_pop_growth_2011_15)).sum())"
   ]
  },
  {
   "cell_type": "code",
   "execution_count": 167,
   "metadata": {
    "collapsed": false
   },
   "outputs": [
    {
     "data": {
      "text/html": [
       "<div>\n",
       "<table border=\"1\" class=\"dataframe\">\n",
       "  <thead>\n",
       "    <tr style=\"text-align: right;\">\n",
       "      <th></th>\n",
       "      <th>state</th>\n",
       "      <th>obama</th>\n",
       "      <th>romney</th>\n",
       "      <th>obama_count</th>\n",
       "      <th>romney_count</th>\n",
       "      <th>total_count</th>\n",
       "      <th>ev</th>\n",
       "      <th>adult_pop_growth_2011_15</th>\n",
       "      <th>score</th>\n",
       "      <th>diff_score</th>\n",
       "      <th>share_national</th>\n",
       "    </tr>\n",
       "    <tr>\n",
       "      <th>state_name</th>\n",
       "      <th></th>\n",
       "      <th></th>\n",
       "      <th></th>\n",
       "      <th></th>\n",
       "      <th></th>\n",
       "      <th></th>\n",
       "      <th></th>\n",
       "      <th></th>\n",
       "      <th></th>\n",
       "      <th></th>\n",
       "      <th></th>\n",
       "    </tr>\n",
       "  </thead>\n",
       "  <tbody>\n",
       "    <tr>\n",
       "      <th>Alabama</th>\n",
       "      <td>AL</td>\n",
       "      <td>38.36</td>\n",
       "      <td>60.55</td>\n",
       "      <td>795696</td>\n",
       "      <td>1255925</td>\n",
       "      <td>2074338</td>\n",
       "      <td>9</td>\n",
       "      <td>0.021734</td>\n",
       "      <td>0.387838</td>\n",
       "      <td>-0.131801</td>\n",
       "      <td>0.015766</td>\n",
       "    </tr>\n",
       "    <tr>\n",
       "      <th>Alaska</th>\n",
       "      <td>AK</td>\n",
       "      <td>40.81</td>\n",
       "      <td>54.80</td>\n",
       "      <td>122640</td>\n",
       "      <td>164676</td>\n",
       "      <td>300495</td>\n",
       "      <td>3</td>\n",
       "      <td>0.033483</td>\n",
       "      <td>0.426847</td>\n",
       "      <td>-0.092792</td>\n",
       "      <td>0.002310</td>\n",
       "    </tr>\n",
       "    <tr>\n",
       "      <th>Arizona</th>\n",
       "      <td>AZ</td>\n",
       "      <td>44.59</td>\n",
       "      <td>53.65</td>\n",
       "      <td>1025232</td>\n",
       "      <td>1233654</td>\n",
       "      <td>2299254</td>\n",
       "      <td>11</td>\n",
       "      <td>0.071607</td>\n",
       "      <td>0.453866</td>\n",
       "      <td>-0.065772</td>\n",
       "      <td>0.018329</td>\n",
       "    </tr>\n",
       "    <tr>\n",
       "      <th>Arkansas</th>\n",
       "      <td>AR</td>\n",
       "      <td>36.88</td>\n",
       "      <td>60.57</td>\n",
       "      <td>394409</td>\n",
       "      <td>647744</td>\n",
       "      <td>1069468</td>\n",
       "      <td>6</td>\n",
       "      <td>0.020381</td>\n",
       "      <td>0.378456</td>\n",
       "      <td>-0.141183</td>\n",
       "      <td>0.008118</td>\n",
       "    </tr>\n",
       "    <tr>\n",
       "      <th>California</th>\n",
       "      <td>CA</td>\n",
       "      <td>60.24</td>\n",
       "      <td>37.12</td>\n",
       "      <td>7854285</td>\n",
       "      <td>4839958</td>\n",
       "      <td>13038547</td>\n",
       "      <td>55</td>\n",
       "      <td>0.056436</td>\n",
       "      <td>0.618728</td>\n",
       "      <td>0.099089</td>\n",
       "      <td>0.102468</td>\n",
       "    </tr>\n",
       "  </tbody>\n",
       "</table>\n",
       "</div>"
      ],
      "text/plain": [
       "           state  obama  romney  obama_count  romney_count  total_count  ev  \\\n",
       "state_name                                                                    \n",
       "Alabama       AL  38.36   60.55       795696       1255925      2074338   9   \n",
       "Alaska        AK  40.81   54.80       122640        164676       300495   3   \n",
       "Arizona       AZ  44.59   53.65      1025232       1233654      2299254  11   \n",
       "Arkansas      AR  36.88   60.57       394409        647744      1069468   6   \n",
       "California    CA  60.24   37.12      7854285       4839958     13038547  55   \n",
       "\n",
       "            adult_pop_growth_2011_15     score  diff_score  share_national  \n",
       "state_name                                                                  \n",
       "Alabama                     0.021734  0.387838   -0.131801        0.015766  \n",
       "Alaska                      0.033483  0.426847   -0.092792        0.002310  \n",
       "Arizona                     0.071607  0.453866   -0.065772        0.018329  \n",
       "Arkansas                    0.020381  0.378456   -0.141183        0.008118  \n",
       "California                  0.056436  0.618728    0.099089        0.102468  "
      ]
     },
     "execution_count": 167,
     "metadata": {},
     "output_type": "execute_result"
    }
   ],
   "source": [
    "data_2012.head()"
   ]
  },
  {
   "cell_type": "markdown",
   "metadata": {},
   "source": [
    "### Constants"
   ]
  },
  {
   "cell_type": "code",
   "execution_count": 173,
   "metadata": {
    "collapsed": false
   },
   "outputs": [],
   "source": [
    "POLLS = poll_data.shape[0]\n",
    "POLLSTERS = poll_data.pollster.unique().shape[0]\n",
    "STATES = poll_data.state.unique().shape[0]"
   ]
  },
  {
   "cell_type": "markdown",
   "metadata": {},
   "source": [
    "## Specify model"
   ]
  },
  {
   "cell_type": "code",
   "execution_count": 168,
   "metadata": {
    "collapsed": true
   },
   "outputs": [],
   "source": [
    "from pymc3 import Model, sample\n",
    "from pymc3 import Binomial, Normal\n",
    "from pymc3.math import invlogit"
   ]
  },
  {
   "cell_type": "code",
   "execution_count": null,
   "metadata": {
    "collapsed": true
   },
   "outputs": [],
   "source": [
    "with Model() as election_model:\n",
    "    \n",
    "    # Pollster house effect\n",
    "    μ_c = Normal('μ_c', 0, 1, shape=POLLSTERS)\n",
    "    \n",
    "    # Polling error\n",
    "    poll_error = Normal('poll_error', 0, 1, shape=STATES-1)\n",
    "    \n",
    "    # Prior for the difference between national and weighted average of state parameters\n",
    "    α = Normal('α', 0, 1)\n",
    "    \n",
    "    δ_a = Normal('δ_a', )\n",
    "    \n",
    "    # Binomial likelihood of Clinton count\n",
    "    likelihood = Binomial('likelihood', n_respondents, π, observed=n_clinton)"
   ]
  },
  {
   "cell_type": "markdown",
   "metadata": {},
   "source": [
    "## Platform information"
   ]
  },
  {
   "cell_type": "code",
   "execution_count": 1,
   "metadata": {
    "collapsed": true
   },
   "outputs": [],
   "source": [
    "%load_ext watermark"
   ]
  },
  {
   "cell_type": "code",
   "execution_count": 7,
   "metadata": {
    "collapsed": false
   },
   "outputs": [
    {
     "name": "stdout",
     "output_type": "stream",
     "text": [
      "CPython 3.5.2\n",
      "IPython 5.1.0\n",
      "\n",
      "pandas 0.19.0\n",
      "numpy 1.11.2\n",
      "pymc3 3.0.rc2\n",
      "\n",
      "compiler   : GCC 4.2.1 Compatible Apple LLVM 6.0 (clang-600.0.54)\n",
      "system     : Darwin\n",
      "release    : 16.1.0\n",
      "machine    : x86_64\n",
      "processor  : i386\n",
      "CPU cores  : 4\n",
      "interpreter: 64bit\n",
      "Git hash   : 6c363171114ef79674b6b85be416ad70c121ed5d\n"
     ]
    }
   ],
   "source": [
    "%watermark -v -m -g -p pandas,numpy,pymc3"
   ]
  }
 ],
 "metadata": {
  "anaconda-cloud": {},
  "kernelspec": {
   "display_name": "Python 3",
   "language": "python",
   "name": "python3"
  },
  "language_info": {
   "codemirror_mode": {
    "name": "ipython",
    "version": 3
   },
   "file_extension": ".py",
   "mimetype": "text/x-python",
   "name": "python",
   "nbconvert_exporter": "python",
   "pygments_lexer": "ipython3",
   "version": "3.5.2"
  },
  "latex_envs": {
   "bibliofile": "biblio.bib",
   "cite_by": "apalike",
   "current_citInitial": 1,
   "eqLabelWithNumbers": true,
   "eqNumInitial": 0
  }
 },
 "nbformat": 4,
 "nbformat_minor": 1
}
