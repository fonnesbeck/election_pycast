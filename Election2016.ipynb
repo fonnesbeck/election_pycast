{
 "cells": [
  {
   "cell_type": "markdown",
   "metadata": {},
   "source": [
    "### THIS IS A WORK IN PROGRESS (BROKEN)"
   ]
  },
  {
   "cell_type": "markdown",
   "metadata": {},
   "source": [
    "# 2016 US Election Forecast\n",
    "\n",
    "This is a re-implementation of [Drew Linzer's election forecasting model](http://votamatic.org/wp-content/uploads/2013/07/Linzer-JASA13.pdf), originally implemented in Stan by [Pierre-Antoine Kremp](https://github.com/pkremp/polls). The model is fit using PyMC3."
   ]
  },
  {
   "cell_type": "code",
   "execution_count": 2,
   "metadata": {
    "collapsed": false
   },
   "outputs": [],
   "source": [
    "%matplotlib inline\n",
    "import numpy as np\n",
    "import pandas as pd\n",
    "import seaborn as sns\n",
    "import us\n",
    "from datetime import date"
   ]
  },
  {
   "cell_type": "markdown",
   "metadata": {},
   "source": [
    "## Import data\n",
    "\n",
    "Download and process data from the Huffington Post. "
   ]
  },
  {
   "cell_type": "code",
   "execution_count": 3,
   "metadata": {
    "collapsed": false
   },
   "outputs": [],
   "source": [
    "states = [state.name.lower() for state in us.STATES]\n",
    "bad_states = 'district of columbia', 'florida', 'california'\n",
    "stubs = [\"2016-{0}-president-trump-vs-clinton\".format(state) for state in states if state not in bad_states]\n",
    "stubs += [\"2016-general-election-trump-vs-clinton\",\n",
    "           \"2016-california-presidential-general-election-trump-vs-clinton\",\n",
    "           \"2016-florida-presidential-general-election-trump-vs-clinton\"]"
   ]
  },
  {
   "cell_type": "code",
   "execution_count": 4,
   "metadata": {
    "collapsed": false
   },
   "outputs": [],
   "source": [
    "url = lambda stub: \"http://elections.huffingtonpost.com/pollster/{0}.csv\".format('-'.join(stub.split(' ')))"
   ]
  },
  {
   "cell_type": "code",
   "execution_count": 5,
   "metadata": {
    "collapsed": false
   },
   "outputs": [],
   "source": [
    "raw_polls = [pd.read_csv(url(stub)).assign(state=stub.split('-')[1]) for stub in stubs]"
   ]
  },
  {
   "cell_type": "code",
   "execution_count": 14,
   "metadata": {
    "collapsed": false
   },
   "outputs": [
    {
     "data": {
      "text/plain": [
       "(2982, 20)"
      ]
     },
     "execution_count": 14,
     "metadata": {},
     "output_type": "execute_result"
    }
   ],
   "source": [
    "all_polls = pd.concat(raw_polls, ignore_index=True)\n",
    "all_polls.columns = all_polls.columns.str.lower()\n",
    "all_polls.shape"
   ]
  },
  {
   "cell_type": "code",
   "execution_count": 15,
   "metadata": {
    "collapsed": false
   },
   "outputs": [
    {
     "data": {
      "text/plain": [
       "affiliation                  0\n",
       "clinton                      0\n",
       "end date                     0\n",
       "entry date/time (et)         0\n",
       "johnson                   2597\n",
       "mcmullin                  2971\n",
       "mode                         0\n",
       "number of observations     541\n",
       "other                      928\n",
       "partisan                     0\n",
       "pollster                     0\n",
       "pollster url                 0\n",
       "population                   0\n",
       "question iteration           0\n",
       "question text             1825\n",
       "source url                   0\n",
       "start date                   0\n",
       "trump                        1\n",
       "undecided                  153\n",
       "state                        0\n",
       "dtype: int64"
      ]
     },
     "execution_count": 15,
     "metadata": {},
     "output_type": "execute_result"
    }
   ],
   "source": [
    "all_polls.isnull().sum()"
   ]
  },
  {
   "cell_type": "markdown",
   "metadata": {},
   "source": [
    "Date-time conversion"
   ]
  },
  {
   "cell_type": "code",
   "execution_count": 24,
   "metadata": {
    "collapsed": false
   },
   "outputs": [],
   "source": [
    "all_polls['end'] = pd.to_datetime(all_polls['end date'])\n",
    "all_polls['begin'] = pd.to_datetime(all_polls['start date'])\n",
    "all_polls['poll_time'] = (all_polls.end - all_polls.begin).dt.days\n",
    "poll_date = (all_polls.end - (all_polls.end - all_polls.begin) / 2)\n",
    "all_polls['poll_date'] = poll_date.dt.date\n",
    "all_polls['week'] = poll_date.dt.week\n",
    "all_polls['day_of_week'] = poll_date.dt.dayofweek"
   ]
  },
  {
   "cell_type": "markdown",
   "metadata": {},
   "source": [
    "Deal with inconsistency in pollster names"
   ]
  },
  {
   "cell_type": "code",
   "execution_count": 25,
   "metadata": {
    "collapsed": false
   },
   "outputs": [],
   "source": [
    "all_polls.pollster = all_polls.pollster.replace({\"Fox News\":\"FOX\",\n",
    "                            \"WashPost\":\"Washington Post\",\n",
    "                            \"ABC News\":\"ABC\"})"
   ]
  },
  {
   "cell_type": "markdown",
   "metadata": {},
   "source": [
    "Combine other candidate categories"
   ]
  },
  {
   "cell_type": "code",
   "execution_count": 26,
   "metadata": {
    "collapsed": false
   },
   "outputs": [],
   "source": [
    "all_polls['other'] = all_polls[['johnson', 'mcmullin', 'other']].fillna(0).sum(1)"
   ]
  },
  {
   "cell_type": "code",
   "execution_count": 27,
   "metadata": {
    "collapsed": true
   },
   "outputs": [],
   "source": [
    "all_polls['both'] = all_polls.clinton + all_polls.trump"
   ]
  },
  {
   "cell_type": "markdown",
   "metadata": {},
   "source": [
    "Fill NA values where needed."
   ]
  },
  {
   "cell_type": "code",
   "execution_count": 28,
   "metadata": {
    "collapsed": true
   },
   "outputs": [],
   "source": [
    "all_polls.undecided = all_polls.undecided.fillna(0)"
   ]
  },
  {
   "cell_type": "markdown",
   "metadata": {},
   "source": [
    "Important dates"
   ]
  },
  {
   "cell_type": "code",
   "execution_count": 29,
   "metadata": {
    "collapsed": true
   },
   "outputs": [],
   "source": [
    "start_date = date(2016, 4, 1)\n",
    "election_date = date(2016, 11, 8)"
   ]
  },
  {
   "cell_type": "markdown",
   "metadata": {},
   "source": [
    "Rows and columns we need for analysis"
   ]
  },
  {
   "cell_type": "code",
   "execution_count": 30,
   "metadata": {
    "collapsed": false
   },
   "outputs": [],
   "source": [
    "rows_to_keep = ((all_polls['number of observations']>1)\n",
    "               & (all_polls.poll_date >= start_date)\n",
    "               & (all_polls.population.isin(['Likely Voters', 'Registered Voters', 'Adults'])))\n",
    "\n",
    "cols_to_keep = ['state', 'begin', 'end', 'poll_time', 'poll_date', 'week', 'day_of_week', \n",
    "               'pollster', 'mode', 'population', 'number of observations',\n",
    "               'clinton', 'trump', 'both', 'other']"
   ]
  },
  {
   "cell_type": "code",
   "execution_count": 31,
   "metadata": {
    "collapsed": false
   },
   "outputs": [],
   "source": [
    "poll_data = (all_polls.loc[rows_to_keep, cols_to_keep]\n",
    "                .rename(columns={'mode':'method', 'population':'vtype', 'number of observations':'n_obs'}))"
   ]
  },
  {
   "cell_type": "markdown",
   "metadata": {},
   "source": [
    "Derived columns"
   ]
  },
  {
   "cell_type": "code",
   "execution_count": 32,
   "metadata": {
    "collapsed": false
   },
   "outputs": [],
   "source": [
    "poll_data['poll_type'] = poll_data.vtype.replace({\"Likely Voters\":0, \n",
    "                                                     \"Registered Voters\":1,\n",
    "                                                     \"Adults\":2})\n",
    "poll_data['p_clinton'] = poll_data.clinton / poll_data.both\n",
    "poll_data['n_clinton'] = poll_data.n_obs * poll_data.clinton / 100\n",
    "poll_data['n_respondents'] = poll_data.n_obs * poll_data.both / 100"
   ]
  },
  {
   "cell_type": "code",
   "execution_count": 33,
   "metadata": {
    "collapsed": false
   },
   "outputs": [
    {
     "data": {
      "text/html": [
       "<div>\n",
       "<table border=\"1\" class=\"dataframe\">\n",
       "  <thead>\n",
       "    <tr style=\"text-align: right;\">\n",
       "      <th></th>\n",
       "      <th>state</th>\n",
       "      <th>begin</th>\n",
       "      <th>end</th>\n",
       "      <th>poll_time</th>\n",
       "      <th>poll_date</th>\n",
       "      <th>week</th>\n",
       "      <th>day_of_week</th>\n",
       "      <th>pollster</th>\n",
       "      <th>method</th>\n",
       "      <th>vtype</th>\n",
       "      <th>n_obs</th>\n",
       "      <th>clinton</th>\n",
       "      <th>trump</th>\n",
       "      <th>both</th>\n",
       "      <th>other</th>\n",
       "      <th>poll_type</th>\n",
       "      <th>p_clinton</th>\n",
       "      <th>n_clinton</th>\n",
       "      <th>n_respondents</th>\n",
       "    </tr>\n",
       "  </thead>\n",
       "  <tbody>\n",
       "    <tr>\n",
       "      <th>0</th>\n",
       "      <td>alabama</td>\n",
       "      <td>2016-10-27</td>\n",
       "      <td>2016-11-02</td>\n",
       "      <td>6</td>\n",
       "      <td>2016-10-30</td>\n",
       "      <td>43</td>\n",
       "      <td>6</td>\n",
       "      <td>SurveyMonkey</td>\n",
       "      <td>Internet</td>\n",
       "      <td>Likely Voters</td>\n",
       "      <td>621.0</td>\n",
       "      <td>35.0</td>\n",
       "      <td>53.0</td>\n",
       "      <td>88.0</td>\n",
       "      <td>0.0</td>\n",
       "      <td>0</td>\n",
       "      <td>0.397727</td>\n",
       "      <td>217.35</td>\n",
       "      <td>546.48</td>\n",
       "    </tr>\n",
       "    <tr>\n",
       "      <th>1</th>\n",
       "      <td>alabama</td>\n",
       "      <td>2016-10-23</td>\n",
       "      <td>2016-10-29</td>\n",
       "      <td>6</td>\n",
       "      <td>2016-10-26</td>\n",
       "      <td>43</td>\n",
       "      <td>2</td>\n",
       "      <td>UPI/CVOTER</td>\n",
       "      <td>Internet</td>\n",
       "      <td>Likely Voters</td>\n",
       "      <td>349.0</td>\n",
       "      <td>37.0</td>\n",
       "      <td>58.0</td>\n",
       "      <td>95.0</td>\n",
       "      <td>0.0</td>\n",
       "      <td>0</td>\n",
       "      <td>0.389474</td>\n",
       "      <td>129.13</td>\n",
       "      <td>331.55</td>\n",
       "    </tr>\n",
       "    <tr>\n",
       "      <th>2</th>\n",
       "      <td>alabama</td>\n",
       "      <td>2016-10-07</td>\n",
       "      <td>2016-10-27</td>\n",
       "      <td>20</td>\n",
       "      <td>2016-10-17</td>\n",
       "      <td>42</td>\n",
       "      <td>0</td>\n",
       "      <td>Ipsos/Reuters</td>\n",
       "      <td>Internet</td>\n",
       "      <td>Likely Voters</td>\n",
       "      <td>505.0</td>\n",
       "      <td>39.0</td>\n",
       "      <td>51.0</td>\n",
       "      <td>90.0</td>\n",
       "      <td>0.0</td>\n",
       "      <td>0</td>\n",
       "      <td>0.433333</td>\n",
       "      <td>196.95</td>\n",
       "      <td>454.50</td>\n",
       "    </tr>\n",
       "    <tr>\n",
       "      <th>3</th>\n",
       "      <td>alabama</td>\n",
       "      <td>2016-10-18</td>\n",
       "      <td>2016-10-26</td>\n",
       "      <td>8</td>\n",
       "      <td>2016-10-22</td>\n",
       "      <td>42</td>\n",
       "      <td>5</td>\n",
       "      <td>SurveyMonkey</td>\n",
       "      <td>Internet</td>\n",
       "      <td>Likely Voters</td>\n",
       "      <td>486.0</td>\n",
       "      <td>36.0</td>\n",
       "      <td>52.0</td>\n",
       "      <td>88.0</td>\n",
       "      <td>0.0</td>\n",
       "      <td>0</td>\n",
       "      <td>0.409091</td>\n",
       "      <td>174.96</td>\n",
       "      <td>427.68</td>\n",
       "    </tr>\n",
       "    <tr>\n",
       "      <th>4</th>\n",
       "      <td>alabama</td>\n",
       "      <td>2016-10-09</td>\n",
       "      <td>2016-10-16</td>\n",
       "      <td>7</td>\n",
       "      <td>2016-10-12</td>\n",
       "      <td>41</td>\n",
       "      <td>2</td>\n",
       "      <td>UPI/CVOTER</td>\n",
       "      <td>Internet</td>\n",
       "      <td>Likely Voters</td>\n",
       "      <td>327.0</td>\n",
       "      <td>38.0</td>\n",
       "      <td>57.0</td>\n",
       "      <td>95.0</td>\n",
       "      <td>0.0</td>\n",
       "      <td>0</td>\n",
       "      <td>0.400000</td>\n",
       "      <td>124.26</td>\n",
       "      <td>310.65</td>\n",
       "    </tr>\n",
       "  </tbody>\n",
       "</table>\n",
       "</div>"
      ],
      "text/plain": [
       "     state      begin        end  poll_time   poll_date  week  day_of_week  \\\n",
       "0  alabama 2016-10-27 2016-11-02          6  2016-10-30    43            6   \n",
       "1  alabama 2016-10-23 2016-10-29          6  2016-10-26    43            2   \n",
       "2  alabama 2016-10-07 2016-10-27         20  2016-10-17    42            0   \n",
       "3  alabama 2016-10-18 2016-10-26          8  2016-10-22    42            5   \n",
       "4  alabama 2016-10-09 2016-10-16          7  2016-10-12    41            2   \n",
       "\n",
       "        pollster    method          vtype  n_obs  clinton  trump  both  other  \\\n",
       "0   SurveyMonkey  Internet  Likely Voters  621.0     35.0   53.0  88.0    0.0   \n",
       "1     UPI/CVOTER  Internet  Likely Voters  349.0     37.0   58.0  95.0    0.0   \n",
       "2  Ipsos/Reuters  Internet  Likely Voters  505.0     39.0   51.0  90.0    0.0   \n",
       "3   SurveyMonkey  Internet  Likely Voters  486.0     36.0   52.0  88.0    0.0   \n",
       "4     UPI/CVOTER  Internet  Likely Voters  327.0     38.0   57.0  95.0    0.0   \n",
       "\n",
       "   poll_type  p_clinton  n_clinton  n_respondents  \n",
       "0          0   0.397727     217.35         546.48  \n",
       "1          0   0.389474     129.13         331.55  \n",
       "2          0   0.433333     196.95         454.50  \n",
       "3          0   0.409091     174.96         427.68  \n",
       "4          0   0.400000     124.26         310.65  "
      ]
     },
     "execution_count": 33,
     "metadata": {},
     "output_type": "execute_result"
    }
   ],
   "source": [
    "poll_data.head()"
   ]
  },
  {
   "cell_type": "code",
   "execution_count": 34,
   "metadata": {
    "collapsed": false
   },
   "outputs": [
    {
     "data": {
      "text/plain": [
       "(1741, 19)"
      ]
     },
     "execution_count": 34,
     "metadata": {},
     "output_type": "execute_result"
    }
   ],
   "source": [
    "poll_data.shape"
   ]
  },
  {
   "cell_type": "markdown",
   "metadata": {},
   "source": [
    "Remove old polls"
   ]
  },
  {
   "cell_type": "code",
   "execution_count": 35,
   "metadata": {
    "collapsed": false
   },
   "outputs": [],
   "source": [
    "recent_poll_data = poll_data[poll_data.poll_date>start_date]"
   ]
  },
  {
   "cell_type": "markdown",
   "metadata": {},
   "source": [
    "Remove overlapping polls"
   ]
  },
  {
   "cell_type": "code",
   "execution_count": 36,
   "metadata": {
    "collapsed": false
   },
   "outputs": [],
   "source": [
    "poll_data_2016 = recent_poll_data.drop_duplicates(['state', 'poll_date', 'pollster'])"
   ]
  },
  {
   "cell_type": "code",
   "execution_count": 37,
   "metadata": {
    "collapsed": false
   },
   "outputs": [
    {
     "data": {
      "text/plain": [
       "(1288, 19)"
      ]
     },
     "execution_count": 37,
     "metadata": {},
     "output_type": "execute_result"
    }
   ],
   "source": [
    "poll_data_2016.to_csv('data/clean/poll_data_2016.csv')\n",
    "poll_data_2016.shape"
   ]
  },
  {
   "cell_type": "markdown",
   "metadata": {},
   "source": [
    "Get pollster list"
   ]
  },
  {
   "cell_type": "code",
   "execution_count": 82,
   "metadata": {
    "collapsed": false
   },
   "outputs": [],
   "source": [
    "pollsters = poll_data_2016.pollster.unique()"
   ]
  },
  {
   "cell_type": "markdown",
   "metadata": {},
   "source": [
    "Split polling data into state and national"
   ]
  },
  {
   "cell_type": "code",
   "execution_count": 74,
   "metadata": {
    "collapsed": false
   },
   "outputs": [],
   "source": [
    "national_poll_ind = poll_data_2016.state=='general'\n",
    "national_data_2016 = poll_data_2016[national_poll_ind]\n",
    "state_data_2016 = poll_data_2016[~national_poll_ind]"
   ]
  },
  {
   "cell_type": "markdown",
   "metadata": {},
   "source": [
    "Range of days for election period"
   ]
  },
  {
   "cell_type": "code",
   "execution_count": 75,
   "metadata": {
    "collapsed": false
   },
   "outputs": [],
   "source": [
    "state_days = pd.date_range(state_data_2016.poll_date.min(), \n",
    "                         state_data_2016.poll_date.max())\n",
    "national_days = pd.date_range(national_data_2016.poll_date.min(), \n",
    "                         national_data_2016.poll_date.max())"
   ]
  },
  {
   "cell_type": "markdown",
   "metadata": {},
   "source": [
    "Obtain index in date sequence of each poll, to use for indexing coefficients."
   ]
  },
  {
   "cell_type": "code",
   "execution_count": 78,
   "metadata": {
    "collapsed": false
   },
   "outputs": [],
   "source": [
    "state_day_index_series = pd.Series(range(len(state_days)), index=state_days)\n",
    "STATE_DAY_IND = state_day_index_series.loc[state_data_2016.poll_date]\n",
    "\n",
    "national_day_index_series = pd.Series(range(len(national_days)), index=national_days)\n",
    "NATIONAL_DAY_IND = national_day_index_series.loc[national_data_2016.poll_date]"
   ]
  },
  {
   "cell_type": "markdown",
   "metadata": {},
   "source": [
    "Same idea for states"
   ]
  },
  {
   "cell_type": "code",
   "execution_count": 79,
   "metadata": {
    "collapsed": false
   },
   "outputs": [],
   "source": [
    "state_index_series = pd.Series(range(len(states)), index=states)\n",
    "STATE_IND = state_index_series.loc[state_data_2016.state]"
   ]
  },
  {
   "cell_type": "markdown",
   "metadata": {},
   "source": [
    "And for pollster house effects"
   ]
  },
  {
   "cell_type": "code",
   "execution_count": 85,
   "metadata": {
    "collapsed": false
   },
   "outputs": [],
   "source": [
    "pollster_index_series = pd.Series(range(len(pollsters)), index=pollsters)\n",
    "STATE_POLLSTER_IND = pollster_index_series.loc[state_data_2016.pollster]\n",
    "NATIONAL_POLLSTER_IND = pollster_index_series.loc[national_data_2016.pollster]"
   ]
  },
  {
   "cell_type": "markdown",
   "metadata": {},
   "source": [
    "### 2012 data\n",
    "\n",
    "For use in deriving priors, weights and getting electoral votes"
   ]
  },
  {
   "cell_type": "code",
   "execution_count": 113,
   "metadata": {
    "collapsed": false
   },
   "outputs": [],
   "source": [
    "data_2012 = pd.read_csv('data/raw/2012.csv', index_col=-3).sort_index()\n",
    "new_index = pd.Series(data_2012.index.values).str.lower().replace({'d.c.':'district of columbia'})\n",
    "data_2012.index = new_index"
   ]
  },
  {
   "cell_type": "code",
   "execution_count": 114,
   "metadata": {
    "collapsed": false
   },
   "outputs": [
    {
     "data": {
      "text/plain": [
       "0.51963863890611295"
      ]
     },
     "execution_count": 114,
     "metadata": {},
     "output_type": "execute_result"
    }
   ],
   "source": [
    "national_score = data_2012.obama_count.sum() / (data_2012.romney_count + data_2012.obama_count).sum()\n",
    "national_score"
   ]
  },
  {
   "cell_type": "code",
   "execution_count": 115,
   "metadata": {
    "collapsed": true
   },
   "outputs": [],
   "source": [
    "data_2012['score'] = data_2012.obama_count / (data_2012.romney_count + data_2012.obama_count)\n",
    "data_2012['diff_score'] = data_2012.score - national_score\n",
    "data_2012['share_national'] = (data_2012.total_count * (1 + data_2012.adult_pop_growth_2011_15)\n",
    "                               / (data_2012.total_count*(1+data_2012.adult_pop_growth_2011_15)).sum())"
   ]
  },
  {
   "cell_type": "code",
   "execution_count": 116,
   "metadata": {
    "collapsed": false
   },
   "outputs": [
    {
     "data": {
      "text/html": [
       "<div>\n",
       "<table border=\"1\" class=\"dataframe\">\n",
       "  <thead>\n",
       "    <tr style=\"text-align: right;\">\n",
       "      <th></th>\n",
       "      <th>state</th>\n",
       "      <th>obama</th>\n",
       "      <th>romney</th>\n",
       "      <th>obama_count</th>\n",
       "      <th>romney_count</th>\n",
       "      <th>total_count</th>\n",
       "      <th>ev</th>\n",
       "      <th>adult_pop_growth_2011_15</th>\n",
       "      <th>score</th>\n",
       "      <th>diff_score</th>\n",
       "      <th>share_national</th>\n",
       "    </tr>\n",
       "  </thead>\n",
       "  <tbody>\n",
       "    <tr>\n",
       "      <th>alabama</th>\n",
       "      <td>AL</td>\n",
       "      <td>38.36</td>\n",
       "      <td>60.55</td>\n",
       "      <td>795696</td>\n",
       "      <td>1255925</td>\n",
       "      <td>2074338</td>\n",
       "      <td>9</td>\n",
       "      <td>0.021734</td>\n",
       "      <td>0.387838</td>\n",
       "      <td>-0.131801</td>\n",
       "      <td>0.015766</td>\n",
       "    </tr>\n",
       "    <tr>\n",
       "      <th>alaska</th>\n",
       "      <td>AK</td>\n",
       "      <td>40.81</td>\n",
       "      <td>54.80</td>\n",
       "      <td>122640</td>\n",
       "      <td>164676</td>\n",
       "      <td>300495</td>\n",
       "      <td>3</td>\n",
       "      <td>0.033483</td>\n",
       "      <td>0.426847</td>\n",
       "      <td>-0.092792</td>\n",
       "      <td>0.002310</td>\n",
       "    </tr>\n",
       "    <tr>\n",
       "      <th>arizona</th>\n",
       "      <td>AZ</td>\n",
       "      <td>44.59</td>\n",
       "      <td>53.65</td>\n",
       "      <td>1025232</td>\n",
       "      <td>1233654</td>\n",
       "      <td>2299254</td>\n",
       "      <td>11</td>\n",
       "      <td>0.071607</td>\n",
       "      <td>0.453866</td>\n",
       "      <td>-0.065772</td>\n",
       "      <td>0.018329</td>\n",
       "    </tr>\n",
       "    <tr>\n",
       "      <th>arkansas</th>\n",
       "      <td>AR</td>\n",
       "      <td>36.88</td>\n",
       "      <td>60.57</td>\n",
       "      <td>394409</td>\n",
       "      <td>647744</td>\n",
       "      <td>1069468</td>\n",
       "      <td>6</td>\n",
       "      <td>0.020381</td>\n",
       "      <td>0.378456</td>\n",
       "      <td>-0.141183</td>\n",
       "      <td>0.008118</td>\n",
       "    </tr>\n",
       "    <tr>\n",
       "      <th>california</th>\n",
       "      <td>CA</td>\n",
       "      <td>60.24</td>\n",
       "      <td>37.12</td>\n",
       "      <td>7854285</td>\n",
       "      <td>4839958</td>\n",
       "      <td>13038547</td>\n",
       "      <td>55</td>\n",
       "      <td>0.056436</td>\n",
       "      <td>0.618728</td>\n",
       "      <td>0.099089</td>\n",
       "      <td>0.102468</td>\n",
       "    </tr>\n",
       "  </tbody>\n",
       "</table>\n",
       "</div>"
      ],
      "text/plain": [
       "           state  obama  romney  obama_count  romney_count  total_count  ev  \\\n",
       "alabama       AL  38.36   60.55       795696       1255925      2074338   9   \n",
       "alaska        AK  40.81   54.80       122640        164676       300495   3   \n",
       "arizona       AZ  44.59   53.65      1025232       1233654      2299254  11   \n",
       "arkansas      AR  36.88   60.57       394409        647744      1069468   6   \n",
       "california    CA  60.24   37.12      7854285       4839958     13038547  55   \n",
       "\n",
       "            adult_pop_growth_2011_15     score  diff_score  share_national  \n",
       "alabama                     0.021734  0.387838   -0.131801        0.015766  \n",
       "alaska                      0.033483  0.426847   -0.092792        0.002310  \n",
       "arizona                     0.071607  0.453866   -0.065772        0.018329  \n",
       "arkansas                    0.020381  0.378456   -0.141183        0.008118  \n",
       "california                  0.056436  0.618728    0.099089        0.102468  "
      ]
     },
     "execution_count": 116,
     "metadata": {},
     "output_type": "execute_result"
    }
   ],
   "source": [
    "data_2012.head()"
   ]
  },
  {
   "cell_type": "markdown",
   "metadata": {},
   "source": [
    "Extract columns of interest"
   ]
  },
  {
   "cell_type": "code",
   "execution_count": 119,
   "metadata": {
    "collapsed": false
   },
   "outputs": [],
   "source": [
    "prior_diff_score = data_2012.diff_score\n",
    "state_weights = data_2012.share_national/data_2012.share_national.sum()\n",
    "ev_states = data_2012.ev"
   ]
  },
  {
   "cell_type": "markdown",
   "metadata": {},
   "source": [
    "### Constants"
   ]
  },
  {
   "cell_type": "code",
   "execution_count": 121,
   "metadata": {
    "collapsed": false
   },
   "outputs": [],
   "source": [
    "STATE_POLLS = state_data_2016.shape[0]\n",
    "NATIONAL_POLLS = national_data_2016.shape[0]\n",
    "POLLSTERS = poll_data_2016.pollster.unique().shape[0]\n",
    "STATES = len(states)\n",
    "DAYS = all_days.shape[0]\n",
    "NATIONAL, STATE = 0, 1"
   ]
  },
  {
   "cell_type": "markdown",
   "metadata": {},
   "source": [
    "## Specify model"
   ]
  },
  {
   "cell_type": "code",
   "execution_count": 122,
   "metadata": {
    "collapsed": true
   },
   "outputs": [],
   "source": [
    "from pymc3 import Model, sample\n",
    "from pymc3 import Binomial, Normal, Deterministic, Flat\n",
    "from pymc3.math import invlogit"
   ]
  },
  {
   "cell_type": "code",
   "execution_count": null,
   "metadata": {
    "collapsed": true
   },
   "outputs": [],
   "source": [
    "with Model() as election_model:\n",
    "    \n",
    "    # Pollster house effect\n",
    "    μ_c = Normal('μ_c', 0, 1, shape=POLLSTERS)\n",
    "    σ_c = Uniform('σ_c', 0, 0.2)\n",
    "    \n",
    "    σ_u = Uniform('σ_u', 0, 0.1, shape=2)\n",
    "    u_state = Flat('u_state', shape=STATE_POLLS)\n",
    "    u_national = Flat('u_national', shape=NATIONAL_POLLS)\n",
    "    \n",
    "    σ_b = Uniform('σ_b', 0, 10)\n",
    "    β_backwards = GaussianRandomWalk('β_backwards', sd=σ_b, init=Normal.dist(0, 1), shape=(DAYS, STATES))\n",
    "    β = β_backwards[::-1]\n",
    "    \n",
    "    σ_d = Uniform('σ_d', 0, 10)\n",
    "    δ_backwards = GaussianRandomWalk('δ_backwards', sd=σ_d, init=Normal.dist(0, 1), shape=(DAYS, STATES))\n",
    "    δ = δ_backwards[::-1]\n",
    "    \n",
    "    π_state = Deterministic('π_state', invlogit(β[STATE_DAY_IND, STATE_IND] + δ[STATE_DAY_IND] \n",
    "                                                + σ_c * μ_c[STATE_POLLSTER_IND] + σ_u[STATE] * u_state))\n",
    "    \n",
    "    ### FINISH THIS\n",
    "    state_avg = * state_weights\n",
    "    π_national = Deterministic('π_national', invlogit(σ_c * μ_c[NATIONAL_POLLSTER_IND] + σ_u[NATIONAL] * u_national))\n",
    "    \n",
    "    # Binomial likelihoods of Clinton count\n",
    "    state_clinton = Binomial('state_clinton', state_data_2016.n_respondents, π_state, \n",
    "                             observed=state_data_2016.n_clinton)\n",
    "    national_clinton = Binomial('national_clinton', national_data_2016.n_respondents, π_national, \n",
    "                             observed=national_data_2016.n_clinton)"
   ]
  },
  {
   "cell_type": "code",
   "execution_count": null,
   "metadata": {
    "collapsed": true
   },
   "outputs": [],
   "source": [
    "with election_model:\n",
    "    \n",
    "    trace = sample(2000, njobs=2)"
   ]
  },
  {
   "cell_type": "markdown",
   "metadata": {},
   "source": [
    "## Platform information\n",
    "\n",
    "This analysis was performed with the following system:"
   ]
  },
  {
   "cell_type": "code",
   "execution_count": 1,
   "metadata": {
    "collapsed": true
   },
   "outputs": [],
   "source": [
    "%load_ext watermark"
   ]
  },
  {
   "cell_type": "code",
   "execution_count": 7,
   "metadata": {
    "collapsed": false,
    "scrolled": true
   },
   "outputs": [
    {
     "name": "stdout",
     "output_type": "stream",
     "text": [
      "CPython 3.5.2\n",
      "IPython 5.1.0\n",
      "\n",
      "pandas 0.19.0\n",
      "numpy 1.11.2\n",
      "pymc3 3.0.rc2\n",
      "\n",
      "compiler   : GCC 4.2.1 Compatible Apple LLVM 6.0 (clang-600.0.54)\n",
      "system     : Darwin\n",
      "release    : 16.1.0\n",
      "machine    : x86_64\n",
      "processor  : i386\n",
      "CPU cores  : 4\n",
      "interpreter: 64bit\n",
      "Git hash   : 6c363171114ef79674b6b85be416ad70c121ed5d\n"
     ]
    }
   ],
   "source": [
    "%watermark -v -m -g -p pandas,numpy,pymc3"
   ]
  },
  {
   "cell_type": "markdown",
   "metadata": {},
   "source": [
    "## References\n",
    "\n",
    "1. Linzer DA. Dynamic Bayesian Forecasting of Presidential Elections in the States. Journal of the American Statistical Association. 2013;108(501):124-134. doi:10.1080/01621459.2012.737735.\n",
    "2. Gelman, A. [The Polls of the Future Are Reproducible and Open Source](http://www.slate.com/articles/technology/future_tense/2016/11/the_polls_of_the_future_will_be_reproducible_and_open_source.html). Slate, November 1, 2016."
   ]
  }
 ],
 "metadata": {
  "anaconda-cloud": {},
  "kernelspec": {
   "display_name": "Python 3",
   "language": "python",
   "name": "python3"
  },
  "latex_envs": {
   "bibliofile": "biblio.bib",
   "cite_by": "apalike",
   "current_citInitial": 1,
   "eqLabelWithNumbers": true,
   "eqNumInitial": 0
  }
 },
 "nbformat": 4,
 "nbformat_minor": 1
}
